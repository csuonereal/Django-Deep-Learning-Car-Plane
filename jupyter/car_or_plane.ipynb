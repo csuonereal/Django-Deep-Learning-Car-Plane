{
 "cells": [
  {
   "cell_type": "code",
   "execution_count": 1,
   "source": [
    "from keras.preprocessing.image import ImageDataGenerator\r\n",
    "from keras.models import Sequential\r\n",
    "from keras.layers import Conv2D, MaxPooling2D\r\n",
    "from keras.layers import Activation, Dropout, Flatten, Dense\r\n",
    "from keras import backend as K\r\n",
    "import warnings\r\n",
    "\r\n",
    "warnings.filterwarnings('ignore')\r\n",
    "\r\n",
    "IMG_WIDTH,IMG_HEIGHT=224,224"
   ],
   "outputs": [],
   "metadata": {}
  },
  {
   "cell_type": "code",
   "execution_count": 2,
   "source": [
    "path = r'C:\\Users\\user\\Desktop\\DL car or plane'\r\n",
    "train_data_dir = path+'\\\\Train'\r\n",
    "test_data_dir = path+'\\\\Validation'\r\n",
    "\r\n",
    "train_samples=400\r\n",
    "test_samples=100\r\n",
    "epochs=10\r\n",
    "batch_size=20"
   ],
   "outputs": [],
   "metadata": {}
  },
  {
   "cell_type": "code",
   "execution_count": 3,
   "source": [
    "if K.image_data_format() == 'channels_first':\r\n",
    "    input_shape = (3, IMG_WIDTH, IMG_HEIGHT)\r\n",
    "else:\r\n",
    "    input_shape = (IMG_WIDTH, IMG_HEIGHT, 3)"
   ],
   "outputs": [],
   "metadata": {}
  },
  {
   "cell_type": "code",
   "execution_count": 4,
   "source": [
    "model = Sequential()\r\n",
    "model.add(Conv2D(32, (2, 2), input_shape=input_shape))\r\n",
    "model.add(Activation('relu'))\r\n",
    "model.add(MaxPooling2D(pool_size=(2, 2)))\r\n",
    "\r\n",
    "model.add(Conv2D(32, (2, 2)))\r\n",
    "model.add(Activation('relu'))\r\n",
    "model.add(MaxPooling2D(pool_size=(2, 2)))\r\n",
    "\r\n",
    "model.add(Conv2D(64, (2, 2)))\r\n",
    "model.add(Activation('relu'))\r\n",
    "model.add(MaxPooling2D(pool_size=(2, 2)))\r\n",
    "\r\n",
    "model.add(Flatten())\r\n",
    "model.add(Dense(64, activation='relu'))\r\n",
    "model.add(Dropout(0.5))\r\n",
    "model.add(Dense(1, activation='sigmoid'))\r\n",
    "\r\n",
    "model.compile(optimizer='adam', metrics=['accuracy'], loss='binary_crossentropy')"
   ],
   "outputs": [],
   "metadata": {}
  },
  {
   "cell_type": "code",
   "execution_count": null,
   "source": [
    "train_datagen = ImageDataGenerator(\r\n",
    "    rescale=1. / 255,\r\n",
    "    shear_range=0.2,\r\n",
    "    zoom_range=0.2,\r\n",
    "    horizontal_flip=True)\r\n",
    "test_datagen = ImageDataGenerator(rescale=1. / 255)\r\n",
    " \r\n",
    "train_generator = train_datagen.flow_from_directory(\r\n",
    "    train_data_dir,\r\n",
    "    target_size=(IMG_WIDTH, IMG_HEIGHT),\r\n",
    "    batch_size=batch_size,\r\n",
    "    class_mode='binary')\r\n",
    " \r\n",
    "validation_generator = test_datagen.flow_from_directory(\r\n",
    "    test_data_dir,\r\n",
    "    target_size=(IMG_WIDTH, IMG_HEIGHT),\r\n",
    "    batch_size=batch_size,\r\n",
    "    class_mode='binary')\r\n",
    "\r\n",
    "model.fit_generator(\r\n",
    "    train_generator,\r\n",
    "    steps_per_epoch=train_samples,\r\n",
    "    epochs=epochs,\r\n",
    "    validation_data=validation_generator,\r\n",
    "    validation_steps=test_samples\r\n",
    ")"
   ],
   "outputs": [],
   "metadata": {}
  },
  {
   "cell_type": "code",
   "execution_count": null,
   "source": [
    "model.save(r'C:\\Users\\user\\Desktop\\DL car or plane')"
   ],
   "outputs": [],
   "metadata": {}
  }
 ],
 "metadata": {
  "kernelspec": {
   "display_name": "Python 3",
   "language": "python",
   "name": "python3"
  },
  "language_info": {
   "codemirror_mode": {
    "name": "ipython",
    "version": 3
   },
   "file_extension": ".py",
   "mimetype": "text/x-python",
   "name": "python",
   "nbconvert_exporter": "python",
   "pygments_lexer": "ipython3",
   "version": "3.8.8"
  }
 },
 "nbformat": 4,
 "nbformat_minor": 5
}